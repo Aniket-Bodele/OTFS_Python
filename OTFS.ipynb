{
 "cells": [
  {
   "cell_type": "code",
   "execution_count": 299,
   "metadata": {},
   "outputs": [],
   "source": [
    "import numpy as np\n",
    "from numpy.linalg import inv\n",
    "import cmath\n",
    "M=16;\n",
    "N=4;\n",
    "#x=[[70,0,30,151,4,80,34,15],[170,100,300,15,14,81,43,51],[70,101,301,15,14,8,56,79],[171,106,130,115,411,89,111,69],[70,110,30,151,4,8,34,15],[70,0,30,15,41,80,340,151],[0,0,0,0,0,0,0,0],[0,0,0,0,0,0,0,0]]\n",
    "#x=[[0,2,6,2,8,0,2,10],[8,0,8,4,2,2,8,4],[4,8,4,6,10,4,0,4],[0,0,8,2,0,2,8,6],[0,0,0,0,0,0,0,0],[0,0,0,0,0,0,0,0],[0,0,0,0,0,0,0,0],[0,0,0,0,0,0,0,0]]\n",
    "#QAM={0,4,8,12,16}\n",
    "x=[[0,8,4,16],[0,0,12,16],[0,16,0,12],[4,0,8,16],[0,0,12,16],[0,4,12,8],[4,4,12,16],[8,4,16,12],[16,16,12,16],[4,4,8,8],[0,0,4,16],[0,0,8,16],[0,0,0,0],[0,0,0,0],[0,0,0,0],[0,0,0,0]]\n",
    "#k_dash=[0,1,2];\n",
    "k_dash=[0,3,4];\n",
    "l_dash=[0,3,4];\n",
    "#k_dash=[0,2,4];\n",
    "#l_dash=[0,2,4];\n",
    "#l_dash=[0,1,2];\n",
    "#v_l_k=[[0.4,0.05],[1,0.3]];\n",
    "v_l_k=[[4,5,8,5,1],[1,3,9,2,6],[0,12,5,2,7],[10,2,15,2,8],[0,2,15,2,17]];\n",
    "l_max= max(l_dash)\n",
    "M_d=M-l_max;\n",
    "y=np.zeros((M,N), dtype=complex)\n",
    "Y=np.zeros((M,N), dtype=complex)\n",
    "z=cmath.exp(((2*cmath.pi)/(M*N))*1j);\n",
    "def perodic_sinc(x,N):\n",
    "    n=(N-1)/N;\n",
    "    imj=cmath.pi*x*n;\n",
    "    if x==0:\n",
    "        s=cmath.sqrt(N);\n",
    "    else:\n",
    "        s= ((cmath.sin(cmath.pi*x))*cmath.exp((imj)*1j))/(cmath.sqrt(N)*(cmath.sin((cmath.pi*x)/N)));\n",
    "    return s\n",
    "def circulant( arr,  n):\n",
    "       \n",
    "    c = np.zeros((N,N), dtype=complex) \n",
    "    for k in range(n):\n",
    "        c[k][0] = arr[k]\n",
    " \n",
    "    for  i in range(1,n):\n",
    "        for j in range(n):\n",
    "            if (j - 1 >= 0):\n",
    "                c[j][i] = c[j - 1][i - 1]\n",
    "            else:\n",
    "                c[j][i] = c[n - 1][i - 1]\n",
    "             \n",
    "         \n",
    " \n",
    "    return c ;\n",
    "\n",
    "def array(v,m,l,N):\n",
    "    arr = [0 for element in range(N)] \n",
    "    for i in range (0,N):\n",
    "        arr[i]= v[m][l][i];\n",
    "    return arr\n",
    "\n",
    "def array2(v,m,N):\n",
    "    arr= [0 for element in range(N)]\n",
    "    for i in range (0,N):\n",
    "        arr[i]= v[m][i]\n",
    "    return arr\n",
    "\n",
    "v=np.zeros((M,l_max+1,N),dtype=complex)\n",
    "for m in range(0,M):\n",
    "    for l in range(0,len(l_dash)):\n",
    "        for k in range (0,N):\n",
    "             for k_i in range (0,len(k_dash)):\n",
    "                 if m>=l_dash[l]:\n",
    "                    v[m][l_dash[l]][k]= v[m][l_dash[l]][k]+np.round(v_l_k[l_dash[l]][k_dash[k_i]]*(z**(k_dash[k_i]*(m-l_dash[l])))*perodic_sinc(k_dash[k_i]-k,N),3);\n",
    "                    \n",
    "             v[m][l_dash[l]][k] = (v[m][l_dash[l]][k]/cmath.sqrt(N));      \n",
    "\n"
   ]
  },
  {
   "cell_type": "code",
   "execution_count": 300,
   "metadata": {},
   "outputs": [
    {
     "name": "stdout",
     "output_type": "stream",
     "text": [
      "(4,)\n"
     ]
    }
   ],
   "source": [
    "print(y[1].shape)"
   ]
  },
  {
   "cell_type": "code",
   "execution_count": 301,
   "metadata": {},
   "outputs": [
    {
     "name": "stdout",
     "output_type": "stream",
     "text": [
      "[  0.    +0.j     57.414+17.418j 135.64 +27.814j  78.784 +6.12j ]\n"
     ]
    }
   ],
   "source": [
    "def K_m_l(v,m,l,N):\n",
    "    K_m_l = np.zeros((N,N), dtype=complex) \n",
    "    K_m_l= np.matrix(circulant(array(v,m,l,N),N));                   \n",
    "    return K_m_l\n",
    "\n",
    "for m in range (0,M):\n",
    "    va= np.zeros((N,1),dtype=complex)\n",
    "    for l in range (0,len(l_dash)):\n",
    "        if(m>=l_dash[l]):\n",
    "            va= va+np.dot(np.matrix(K_m_l(v,m,l_dash[l],N)),np.matrix(array2(x,m-l_dash[l],N)).transpose())\n",
    "            #print(m)\n",
    "            #print(l)\n",
    "            #print(m-l_dash[l])\n",
    "    y[m]=(va.transpose())\n",
    "print(y[1])\n",
    "    \n"
   ]
  },
  {
   "cell_type": "code",
   "execution_count": 302,
   "metadata": {},
   "outputs": [
    {
     "name": "stdout",
     "output_type": "stream",
     "text": [
      "[[  0.   +0.j    57.41+17.42j 135.64+27.81j  78.78 +6.12j]]\n"
     ]
    }
   ],
   "source": [
    "\n",
    "for i in range (0,M):\n",
    "    for j in range (0,N):\n",
    "        Y[i][j]=np.round(y[i][j],2)\n",
    "print(np.matrix(Y[1]))"
   ]
  },
  {
   "cell_type": "markdown",
   "metadata": {},
   "source": []
  },
  {
   "cell_type": "code",
   "execution_count": 303,
   "metadata": {},
   "outputs": [
    {
     "name": "stdout",
     "output_type": "stream",
     "text": [
      "[ 0.11980796-0.20473627j  8.61236703+1.75803045j 12.9518944 +4.89022647j\n",
      " 26.81172619+2.39373835j]\n",
      "[-0.23793005+0.53887247j  8.19672361+1.24788582j 11.07211969+1.46420731j\n",
      " 18.76293704-0.51438225j]\n",
      "[ 2.36490211+0.19304517j 14.01043875+1.61673669j  7.22223814+0.85775459j\n",
      " 19.20695376-1.9035378j ]\n",
      "[ 2.93870599+0.77077283j  3.37446958+2.20192241j 10.73235007-1.77124489j\n",
      " 18.0033534 -1.89353911j]\n",
      "[ 2.15243501+2.35445626j  0.8847916 -1.41683598j 14.61878784-0.29967839j\n",
      " 16.45153322+0.27168324j]\n",
      "[ 1.64025904+0.66669704j  5.01681742-0.12687913j 13.19242625-1.4280788j\n",
      "  9.18222633-2.18898442j]\n",
      "[ 4.24257683-0.41364006j  5.09648035-0.77058222j 13.4672337 -1.12460504j\n",
      " 12.15691259-1.35158754j]\n",
      "[ 7.99852548-1.21536861j  4.27473761-0.70328765j 16.5384048 +1.64158377j\n",
      "  8.94515687+0.30607141j]\n",
      "[16.07499682-0.04768689j 14.59721236+0.24223128j 11.39870694+1.42663385j\n",
      " 15.18302442+1.90971914j]\n",
      "[4.30727966+0.26516652j 3.6391559 -0.40824195j 8.02227592+0.68670945j\n",
      " 6.47918323+6.0080321j ]\n",
      "[ 1.25060557+0.24388319j  0.53256732-0.72813353j  3.98905815+2.98704045j\n",
      " 13.79230842+8.10894868j]\n",
      "[ 0.64037326+0.10231362j  0.32962337+0.13951125j  6.53110537+0.08387704j\n",
      " 12.32270357-1.16496871j]\n",
      "[0.+0.j 0.+0.j 0.+0.j 0.+0.j]\n",
      "[0.+0.j 0.+0.j 0.+0.j 0.+0.j]\n",
      "[0.+0.j 0.+0.j 0.+0.j 0.+0.j]\n",
      "[0.+0.j 0.+0.j 0.+0.j 0.+0.j]\n"
     ]
    }
   ],
   "source": [
    "#############(MRC IN DELAY DOPPLER DOMAIN)###################\n",
    "x_p= np.zeros((M,N), dtype=complex)\n",
    "D_m=np.zeros((M,N,N), dtype=complex)\n",
    "for m in range (0,M_d):\n",
    "    for j in range (0,len(l_dash)):\n",
    "            D_m[m]=np.add(D_m[m], np.dot((K_m_l(v,m+l_dash[j],l_dash[j],N)).getH(),K_m_l(v,m+l_dash[j],l_dash[j],N)))\n",
    "\n",
    "\n",
    "i=1;\n",
    "\n",
    "b= np.zeros((l_max+1,M,N), dtype=complex)\n",
    "c= np.zeros((M,N), dtype=complex)\n",
    "for i in range(0,i):\n",
    "   for m in range (0,M_d):\n",
    "       mtx= np.zeros((N,1), dtype=complex)\n",
    "       ntx= np.zeros((N,1), dtype=complex)\n",
    "       for l in range (0,len(l_dash)):\n",
    "           w=np.zeros((N,1), dtype=complex)\n",
    "           for p in range (0,len(l_dash)):\n",
    "               if l_dash[p]!=l_dash[l]:\n",
    "                   #a= (K_m_l(v,m+l_dash[l],l_dash[p],N)).transpose()\n",
    "                   #x=np.matrix(x_p[m+l_dash[l]-l_dash[p]])\n",
    "                   a= np.matrix(K_m_l(v,m+l_dash[l],l_dash[p],N))\n",
    "                   x= np.matrix(x_p[m+l_dash[l]-l_dash[p]]).transpose()\n",
    "                   #print(x.shape)\n",
    "                   #print(a.shape)\n",
    "                   w=np.add(w,(np.dot(a,x)))\n",
    "                   #print((np.dot(a,x)).shape)\n",
    "                 #print(np.matrix(x_p[m+l_dash[l]-l_dash[p]]).transpose())\n",
    "                 #print(np.matrix(K_m_l(v,m+l_dash[l],l_dash[p],N)))\n",
    "                 \n",
    "           #print(w.shape)\n",
    "           #print(np.matrix(Y[m+l_dash[l]]).transpose().shape) \n",
    "           b[l_dash[l]][m]=np.matrix(Y[m+l_dash[l]])- np.matrix(w).transpose();\n",
    "          \n",
    "           #print(l)\n",
    "           #print(m)\n",
    "           #print(np.matrix(Y[m+l_dash[l]]).shape)\n",
    "           #print(w.transpose().shape)\n",
    "          # print(np.matrix(b[l_dash[l]][m]).shape)\n",
    "       for z in range (0,len(l_dash)):\n",
    "               var1=(np.matrix(K_m_l(v,m+l_dash[z],l_dash[z],N)).getH())\n",
    "               var2=np.matrix(b[l_dash[z]][m]).transpose()\n",
    "           #print(\"------\")\n",
    "           #print(np.matrix(g[m]).shape)\n",
    "           #print(\"------\")\n",
    "               mtx= np.add(mtx,(np.dot(var1,var2)))\n",
    "               #print((np.dot(var1,var2)).shape)\n",
    "\n",
    "       #print(mtx.shape)\n",
    "           #print(var2.shape)\n",
    "       \n",
    "       #print(\"--------------------\")\n",
    "          # print(g[m].shape)\n",
    "       ntx= np.dot(inv(np.matrix(D_m[m])),mtx)\n",
    "       #print(np.dot(inv(np.matrix(D_m[m])),mtx).shape)\n",
    "       x_p[m]=ntx.transpose()\n",
    "for i in range (0,M):\n",
    "    print (x_p[i])\n",
    "    #print(x_p[i].shape)\n",
    "                     "
   ]
  },
  {
   "cell_type": "code",
   "execution_count": null,
   "metadata": {},
   "outputs": [],
   "source": [
    "############( MP DETECTION ) ###############\n"
   ]
  }
 ],
 "metadata": {
  "kernelspec": {
   "display_name": "Python 3",
   "language": "python",
   "name": "python3"
  },
  "language_info": {
   "codemirror_mode": {
    "name": "ipython",
    "version": 3
   },
   "file_extension": ".py",
   "mimetype": "text/x-python",
   "name": "python",
   "nbconvert_exporter": "python",
   "pygments_lexer": "ipython3",
   "version": "3.12.1"
  }
 },
 "nbformat": 4,
 "nbformat_minor": 2
}
